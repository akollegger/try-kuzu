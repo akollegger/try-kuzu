{
 "cells": [
  {
   "cell_type": "code",
   "execution_count": 2,
   "metadata": {},
   "outputs": [
    {
     "name": "stdout",
     "output_type": "stream",
     "text": [
      "['Adam', 30]\n",
      "['Karissa', 40]\n",
      "['Zhang', 50]\n",
      "['Noura', 25]\n"
     ]
    }
   ],
   "source": [
    "import kuzu\n",
    "\n",
    "db = kuzu.Database(\"./try-kuzu\")\n",
    "conn = kuzu.Connection(db)\n",
    "\n",
    "# Define the schema\n",
    "conn.execute(\"CREATE NODE TABLE User(name STRING, age INT64, PRIMARY KEY (name))\")\n",
    "conn.execute(\"CREATE NODE TABLE City(name STRING, population INT64, PRIMARY KEY (name))\")\n",
    "conn.execute(\"CREATE REL TABLE Follows(FROM User TO User, since INT64)\")\n",
    "conn.execute(\"CREATE REL TABLE LivesIn(FROM User TO City)\")\n",
    "\n",
    "# Load some data\n",
    "conn.execute('COPY User FROM \"data/user.csv\"')\n",
    "conn.execute('COPY City FROM \"data/city.csv\"')\n",
    "conn.execute('COPY Follows FROM \"data/follows.csv\"')\n",
    "conn.execute('COPY LivesIn FROM \"data/lives-in.csv\"')\n",
    "\n",
    "# Query the data\n",
    "results = conn.execute(\"MATCH (u:User) RETURN u.name, u.age;\")\n",
    "while results.has_next():\n",
    "    print(results.get_next())\n"
   ]
  },
  {
   "cell_type": "code",
   "execution_count": null,
   "metadata": {},
   "outputs": [],
   "source": []
  }
 ],
 "metadata": {
  "kernelspec": {
   "display_name": "try-kuzu-fRtX_64j-py3.11",
   "language": "python",
   "name": "python3"
  },
  "language_info": {
   "codemirror_mode": {
    "name": "ipython",
    "version": 3
   },
   "file_extension": ".py",
   "mimetype": "text/x-python",
   "name": "python",
   "nbconvert_exporter": "python",
   "pygments_lexer": "ipython3",
   "version": "3.11.6"
  }
 },
 "nbformat": 4,
 "nbformat_minor": 2
}
